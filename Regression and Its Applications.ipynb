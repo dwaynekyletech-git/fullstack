{
 "cells": [
  {
   "cell_type": "markdown",
   "metadata": {
    "id": "jZuFc6sWiBBl"
   },
   "source": [
    "# Workshop: Regression in Culinary Cuisine Classification\n",
    "\n",
    "### Scenario:\n",
    "You have been hired as a data scientist by a renowned culinary institute that offers diverse cooking courses. As part of a new project, the institute aims to develop an automated system capable of predicting the type of cuisine based on the list of ingredients used in various dishes. This predictive model will help culinary enthusiasts and aspiring chefs identify the characteristics of different cuisines and experiment with new recipes. Your task is to guide the institute through the process of building and evaluating this predictive model using regression techniques.\n",
    "\n",
    "### Objective:\n",
    "You will guide the culinary institute in preparing and refining a dataset of dishes and their ingredients, effectively addressing class imbalance using SMOTE. You'll then demonstrate the application of logistic regression to classify cuisine types, empowering the institute to predict cuisines accurately for new recipes and fostering culinary exploration among enthusiasts and future chefs.\n",
    "\n",
    "### Input Dataset: cuisines.csv\n",
    "The input dataset is a collection of unnamed recipes from around the world.\n",
    "- Each row represents a dish or an unnamed recipe.\n",
    "- The columns contain a series of ingredients with a binary input (1 or 0) to indicate whether the ingredient is used in the recipe. [1 = Yes; 0 = No]\n",
    "- There is a column called cuisine which classifies the unnamed recipe to the type of cuisine.\n",
    "\n",
    "### Directions:\n",
    "1. Import the required libraries for data preparation and visualization.<br>\n",
    "    * Import pandas for DataFrame operations.<br>\n",
    "    * Import matplotlib.pyplot for visualization.<br>\n",
    "    * Import numpy for array operations.<br>\n",
    "3. Read the input dataset and use visualizations to understand the data.<br>\n",
    "    * Read the cuisines.csv file and save it into a DataFrame.<br>\n",
    "    * Plot a graph to understand how many unique cuisines are listed in the data.<br>\n",
    "    * Create a separate DataFrame for each type of cuisine.<br>\n",
    "4. Create a function create_ingredient_df() to analyze the ingredients used in each type of cuisine.<br>\n",
    "    * Drop the known common columns in the cuisine DataFrames.<br>\n",
    "    * Drop any ingredient that isn’t used in the recipe. [Hint: drop if ingredient = 0]<br>\n",
    "    * Call the function to check  and plot the 10 most common ingredients in each type of cuisine.<br>\n",
    "5. Prepare the data for classification.<br>\n",
    "    * Drop all common ingredients from the dataset.<br>\n",
    "    * Import the necessary libraries to use SMOTE.<br>\n",
    "    * Use SMOTE to transform the features of the dataset.<br>\n",
    "    * Verify whether the data has been balanced.<br>\n",
    "6. Train a logistic regression model.<br>\n",
    "    * Import the necessary libraries to build and evaluate a logistic regression model. <br>\n",
    "    * Split the dataset into a training and testing set.<br>\n",
    "    * Fit the model on the training dataset.<br>\n",
    "    * Test the accuracy on the testing dataset.<br>\n",
    "7. Make predictions with the model and evaluate the results.<br>\n",
    "    * Select a random ingredient from the test dataset and record its corresponding cuisine type.<br>\n",
    "    * Input the selected ingredient into the regression model and predict the type of cuisine.<br>\n",
    "    * Use the classification_report() function to evaluate the results.<br>\n"
   ]
  },
  {
   "cell_type": "markdown",
   "metadata": {
    "id": "32FxLQjgjFjw"
   },
   "source": [
    "## Import the Required Libraries and Read the Dataset\n",
    "\n",
    "- Let's start by importing the required libraries, such as Pandas, Matplotlib.pyplot, and Numpy.\n"
   ]
  },
  {
   "cell_type": "code",
   "execution_count": 1,
   "metadata": {
    "id": "QIDoNapXh09Z"
   },
   "outputs": [],
   "source": [
    "# Import the necessary libraries.\n",
    "from sklearn.datasets import make_classification\n",
    "from sklearn.model_selection import train_test_split\n",
    "from sklearn.metrics import accuracy_score\n",
    "from sklearn.tree import DecisionTreeClassifier\n",
    "from matplotlib import pyplot\n",
    "import numpy as np\n",
    "import pandas as pd\n",
    "import matplotlib.pyplot as plt\n",
    "import warnings\n",
    "warnings.filterwarnings(\"ignore\")"
   ]
  },
  {
   "cell_type": "markdown",
   "metadata": {
    "id": "C-SRb1mOHaj8"
   },
   "source": [
    "- From the local drive, upload and read the __cuisines__ dataset."
   ]
  },
  {
   "cell_type": "code",
   "execution_count": 2,
   "metadata": {
    "id": "kBbitz8Ih09b"
   },
   "outputs": [],
   "source": [
    "# Read the cuisines.csv file and save it in the DataFrame named, df.\n",
    "df = pd.read_csv(\"cuisines.csv\")\n",
    "df.drop(columns = [\"Unnamed: 0\"], inplace = True)"
   ]
  },
  {
   "cell_type": "markdown",
   "metadata": {
    "id": "aE9tYrWtHbq0"
   },
   "source": [
    "- The head() function gives the first five rows of the data."
   ]
  },
  {
   "cell_type": "code",
   "execution_count": 3,
   "metadata": {
    "id": "DyO0p1P6h09c"
   },
   "outputs": [
    {
     "data": {
      "text/html": [
       "<div>\n",
       "<style scoped>\n",
       "    .dataframe tbody tr th:only-of-type {\n",
       "        vertical-align: middle;\n",
       "    }\n",
       "\n",
       "    .dataframe tbody tr th {\n",
       "        vertical-align: top;\n",
       "    }\n",
       "\n",
       "    .dataframe thead th {\n",
       "        text-align: right;\n",
       "    }\n",
       "</style>\n",
       "<table border=\"1\" class=\"dataframe\">\n",
       "  <thead>\n",
       "    <tr style=\"text-align: right;\">\n",
       "      <th></th>\n",
       "      <th>cuisine</th>\n",
       "      <th>almond</th>\n",
       "      <th>angelica</th>\n",
       "      <th>anise</th>\n",
       "      <th>anise_seed</th>\n",
       "      <th>apple</th>\n",
       "      <th>apple_brandy</th>\n",
       "      <th>apricot</th>\n",
       "      <th>armagnac</th>\n",
       "      <th>artemisia</th>\n",
       "      <th>...</th>\n",
       "      <th>whiskey</th>\n",
       "      <th>white_bread</th>\n",
       "      <th>white_wine</th>\n",
       "      <th>whole_grain_wheat_flour</th>\n",
       "      <th>wine</th>\n",
       "      <th>wood</th>\n",
       "      <th>yam</th>\n",
       "      <th>yeast</th>\n",
       "      <th>yogurt</th>\n",
       "      <th>zucchini</th>\n",
       "    </tr>\n",
       "  </thead>\n",
       "  <tbody>\n",
       "    <tr>\n",
       "      <th>0</th>\n",
       "      <td>indian</td>\n",
       "      <td>0</td>\n",
       "      <td>0</td>\n",
       "      <td>0</td>\n",
       "      <td>0</td>\n",
       "      <td>0</td>\n",
       "      <td>0</td>\n",
       "      <td>0</td>\n",
       "      <td>0</td>\n",
       "      <td>0</td>\n",
       "      <td>...</td>\n",
       "      <td>0</td>\n",
       "      <td>0</td>\n",
       "      <td>0</td>\n",
       "      <td>0</td>\n",
       "      <td>0</td>\n",
       "      <td>0</td>\n",
       "      <td>0</td>\n",
       "      <td>0</td>\n",
       "      <td>0</td>\n",
       "      <td>0</td>\n",
       "    </tr>\n",
       "    <tr>\n",
       "      <th>1</th>\n",
       "      <td>indian</td>\n",
       "      <td>1</td>\n",
       "      <td>0</td>\n",
       "      <td>0</td>\n",
       "      <td>0</td>\n",
       "      <td>0</td>\n",
       "      <td>0</td>\n",
       "      <td>0</td>\n",
       "      <td>0</td>\n",
       "      <td>0</td>\n",
       "      <td>...</td>\n",
       "      <td>0</td>\n",
       "      <td>0</td>\n",
       "      <td>0</td>\n",
       "      <td>0</td>\n",
       "      <td>0</td>\n",
       "      <td>0</td>\n",
       "      <td>0</td>\n",
       "      <td>0</td>\n",
       "      <td>0</td>\n",
       "      <td>0</td>\n",
       "    </tr>\n",
       "    <tr>\n",
       "      <th>2</th>\n",
       "      <td>indian</td>\n",
       "      <td>0</td>\n",
       "      <td>0</td>\n",
       "      <td>0</td>\n",
       "      <td>0</td>\n",
       "      <td>0</td>\n",
       "      <td>0</td>\n",
       "      <td>0</td>\n",
       "      <td>0</td>\n",
       "      <td>0</td>\n",
       "      <td>...</td>\n",
       "      <td>0</td>\n",
       "      <td>0</td>\n",
       "      <td>0</td>\n",
       "      <td>0</td>\n",
       "      <td>0</td>\n",
       "      <td>0</td>\n",
       "      <td>0</td>\n",
       "      <td>0</td>\n",
       "      <td>0</td>\n",
       "      <td>0</td>\n",
       "    </tr>\n",
       "    <tr>\n",
       "      <th>3</th>\n",
       "      <td>indian</td>\n",
       "      <td>0</td>\n",
       "      <td>0</td>\n",
       "      <td>0</td>\n",
       "      <td>0</td>\n",
       "      <td>0</td>\n",
       "      <td>0</td>\n",
       "      <td>0</td>\n",
       "      <td>0</td>\n",
       "      <td>0</td>\n",
       "      <td>...</td>\n",
       "      <td>0</td>\n",
       "      <td>0</td>\n",
       "      <td>0</td>\n",
       "      <td>0</td>\n",
       "      <td>0</td>\n",
       "      <td>0</td>\n",
       "      <td>0</td>\n",
       "      <td>0</td>\n",
       "      <td>0</td>\n",
       "      <td>0</td>\n",
       "    </tr>\n",
       "    <tr>\n",
       "      <th>4</th>\n",
       "      <td>indian</td>\n",
       "      <td>0</td>\n",
       "      <td>0</td>\n",
       "      <td>0</td>\n",
       "      <td>0</td>\n",
       "      <td>0</td>\n",
       "      <td>0</td>\n",
       "      <td>0</td>\n",
       "      <td>0</td>\n",
       "      <td>0</td>\n",
       "      <td>...</td>\n",
       "      <td>0</td>\n",
       "      <td>0</td>\n",
       "      <td>0</td>\n",
       "      <td>0</td>\n",
       "      <td>0</td>\n",
       "      <td>0</td>\n",
       "      <td>0</td>\n",
       "      <td>0</td>\n",
       "      <td>1</td>\n",
       "      <td>0</td>\n",
       "    </tr>\n",
       "  </tbody>\n",
       "</table>\n",
       "<p>5 rows × 384 columns</p>\n",
       "</div>"
      ],
      "text/plain": [
       "  cuisine  almond  angelica  anise  anise_seed  apple  apple_brandy  apricot  \\\n",
       "0  indian       0         0      0           0      0             0        0   \n",
       "1  indian       1         0      0           0      0             0        0   \n",
       "2  indian       0         0      0           0      0             0        0   \n",
       "3  indian       0         0      0           0      0             0        0   \n",
       "4  indian       0         0      0           0      0             0        0   \n",
       "\n",
       "   armagnac  artemisia  ...  whiskey  white_bread  white_wine  \\\n",
       "0         0          0  ...        0            0           0   \n",
       "1         0          0  ...        0            0           0   \n",
       "2         0          0  ...        0            0           0   \n",
       "3         0          0  ...        0            0           0   \n",
       "4         0          0  ...        0            0           0   \n",
       "\n",
       "   whole_grain_wheat_flour  wine  wood  yam  yeast  yogurt  zucchini  \n",
       "0                        0     0     0    0      0       0         0  \n",
       "1                        0     0     0    0      0       0         0  \n",
       "2                        0     0     0    0      0       0         0  \n",
       "3                        0     0     0    0      0       0         0  \n",
       "4                        0     0     0    0      0       1         0  \n",
       "\n",
       "[5 rows x 384 columns]"
      ]
     },
     "execution_count": 3,
     "metadata": {},
     "output_type": "execute_result"
    }
   ],
   "source": [
    "# Perform an EDA to understand the data.\n",
    "df.head()"
   ]
  },
  {
   "cell_type": "markdown",
   "metadata": {
    "id": "5mOGskkMHpq0"
   },
   "source": [
    "- Let's see the data types using the info() method."
   ]
  },
  {
   "cell_type": "code",
   "execution_count": 4,
   "metadata": {
    "id": "w0ZapNHPh09d"
   },
   "outputs": [
    {
     "name": "stdout",
     "output_type": "stream",
     "text": [
      "<class 'pandas.core.frame.DataFrame'>\n",
      "RangeIndex: 2448 entries, 0 to 2447\n",
      "Columns: 384 entries, cuisine to zucchini\n",
      "dtypes: int64(383), object(1)\n",
      "memory usage: 7.2+ MB\n"
     ]
    }
   ],
   "source": [
    "# Perform an EDA to understand the data.\n",
    "df.info()"
   ]
  },
  {
   "cell_type": "markdown",
   "metadata": {
    "id": "hSZ0ECxwUoUU"
   },
   "source": [
    "**Observations:**\n",
    "\n",
    "- __[TODO]__ Record your observations here."
   ]
  },
  {
   "cell_type": "markdown",
   "metadata": {
    "id": "UDDHNXjKjKon"
   },
   "source": [
    "## Visualize Cuisine Distribution and Create Cuisine-Specific DataFrames\n",
    "\n",
    "- Plot the distribution of cuisines. Use the bar graph to plot the value counts of different cuisines.\n"
   ]
  },
  {
   "cell_type": "code",
   "execution_count": 5,
   "metadata": {
    "id": "m04HuBRrh09d"
   },
   "outputs": [
    {
     "data": {
      "text/plain": [
       "<AxesSubplot: >"
      ]
     },
     "execution_count": 5,
     "metadata": {},
     "output_type": "execute_result"
    },
    {
     "data": {
      "image/png": "[encoded data removed]",
      "text/plain": [
       "<Figure size 432x288 with 1 Axes>"
      ]
     },
     "metadata": {
      "needs_background": "light"
     },
     "output_type": "display_data"
    }
   ],
   "source": [
    "df.cuisine.value_counts().plot.barh()"
   ]
  },
  {
   "cell_type": "markdown",
   "metadata": {
    "id": "d6B0q3ZMh09e"
   },
   "source": [
    "- Create a DataFrame for each cuisine\n",
    "- Print the shape of each DataFrame to get the number of rows and columns in each DataFrame"
   ]
  },
  {
   "cell_type": "code",
   "execution_count": 6,
   "metadata": {
    "id": "HyWRHcXKh09f"
   },
   "outputs": [
    {
     "name": "stdout",
     "output_type": "stream",
     "text": [
      "(1, 383)\n",
      "(1, 383)\n",
      "(1, 383)\n",
      "(1, 383)\n",
      "(1, 383)\n"
     ]
    }
   ],
   "source": [
    "df_cuisine = df.groupby(df[\"cuisine\"]).sum()\n",
    "#Create a DataFrame for each type of cuisine.\n",
    "df_chinese = df_cuisine[df_cuisine.index == \"chinese\"]\n",
    "df_japanese = df_cuisine[df_cuisine.index == \"japanese\"]\n",
    "df_thai = df_cuisine[df_cuisine.index == \"thai\"]\n",
    "df_korean = df_cuisine[df_cuisine.index == \"korean\"]\n",
    "df_indian = df_cuisine[df_cuisine.index == \"indian\"]\n",
    "# Print the shape of each DataFrame to understand their dimensions.\n",
    "print(df_chinese.shape)\n",
    "print(df_japanese.shape)\n",
    "print(df_thai.shape)\n",
    "print(df_korean.shape)\n",
    "print(df_indian.shape)"
   ]
  },
  {
   "cell_type": "markdown",
   "metadata": {
    "id": "9QNJs4jijOX4"
   },
   "source": [
    "## Create a Function to Analyze Ingredient Usage\n",
    "\n",
    "- Define a function to create an ingredient DataFrame\n",
    "- Create a function, create_ingredient(), in Python to create an ingredient DataFrame\n",
    "- This function will remove an unnecessary column and count the ingredients."
   ]
  },
  {
   "cell_type": "code",
   "execution_count": 7,
   "metadata": {
    "id": "enx02ALBh09f"
   },
   "outputs": [],
   "source": [
    "def create_ingredient_df(df):\n",
    "    for col in df.columns:\n",
    "        if (df[col] == 0).any():\n",
    "            df = df.drop(columns=[col])\n",
    "\n",
    "#     ingredient_df = ingredient_df.sort_values(by='value', ascending=False,\n",
    "#     inplace=False)\n",
    "#     return ingredient_df\n",
    "    return df\n"
   ]
  },
  {
   "cell_type": "markdown",
   "metadata": {
    "id": "AhWNU9pbKPKg"
   },
   "source": [
    "- Check and plot the top 10 ingredients for each cuisine"
   ]
  },
  {
   "cell_type": "code",
   "execution_count": 8,
   "metadata": {
    "id": "AJxpTniih09g"
   },
   "outputs": [
    {
     "data": {
      "text/plain": [
       "<AxesSubplot: >"
      ]
     },
     "execution_count": 8,
     "metadata": {},
     "output_type": "execute_result"
    },
    {
     "data": {
      "image/png": "[encoded data removed]",
      "text/plain": [
       "<Figure size 432x288 with 1 Axes>"
      ]
     },
     "metadata": {
      "needs_background": "light"
     },
     "output_type": "display_data"
    }
   ],
   "source": [
    "# Call create_ingredient_df for thai cuisine and save in thai_ingredient_df.\n",
    "thai_ingredient_df =  create_ingredient_df(df_thai)\n",
    "# Plot a horizontal bar graph (as shown above) for the top 10 ingredients.\n",
    "thai_ingredient_df.sum().nlargest(10).plot.barh()"
   ]
  },
  {
   "cell_type": "code",
   "execution_count": 9,
   "metadata": {
    "id": "EhWrSapMh09g"
   },
   "outputs": [
    {
     "data": {
      "text/plain": [
       "<AxesSubplot: >"
      ]
     },
     "execution_count": 9,
     "metadata": {},
     "output_type": "execute_result"
    },
    {
     "data": {
      "image/png": "[encoded data removed]",
      "text/plain": [
       "<Figure size 432x288 with 1 Axes>"
      ]
     },
     "metadata": {
      "needs_background": "light"
     },
     "output_type": "display_data"
    }
   ],
   "source": [
    "# Call create_ingredient_df for japanese cuisine and save in japanese_ingredient_df.\n",
    "japanese_ingredient_df =  create_ingredient_df(df_japanese)\n",
    "# Plot a horizontal bar graph (as shown above) for the top 10 ingredients.\n",
    "japanese_ingredient_df.sum().nlargest(10).plot.barh()"
   ]
  },
  {
   "cell_type": "code",
   "execution_count": 10,
   "metadata": {
    "id": "qtyVDlLch09h"
   },
   "outputs": [
    {
     "data": {
      "text/plain": [
       "<AxesSubplot: >"
      ]
     },
     "execution_count": 10,
     "metadata": {},
     "output_type": "execute_result"
    },
    {
     "data": {
      "image/png": "[encoded data removed]",
      "text/plain": [
       "<Figure size 432x288 with 1 Axes>"
      ]
     },
     "metadata": {
      "needs_background": "light"
     },
     "output_type": "display_data"
    }
   ],
   "source": [
    "# Call create_ingredient_df for chinese cuisine and save in chinese_ingredient_df.\n",
    "chinese_ingredient_df =  create_ingredient_df(df_chinese)\n",
    "# Plot a horizontal bar graph (as shown above) for the top 10 ingredients.\n",
    "chinese_ingredient_df.sum().nlargest(10).plot.barh()"
   ]
  },
  {
   "cell_type": "code",
   "execution_count": 11,
   "metadata": {
    "id": "LJys4JFrh09h"
   },
   "outputs": [
    {
     "data": {
      "text/plain": [
       "<AxesSubplot: >"
      ]
     },
     "execution_count": 11,
     "metadata": {},
     "output_type": "execute_result"
    },
    {
     "data": {
      "image/png": "[encoded data removed]",
      "text/plain": [
       "<Figure size 432x288 with 1 Axes>"
      ]
     },
     "metadata": {
      "needs_background": "light"
     },
     "output_type": "display_data"
    }
   ],
   "source": [
    "# Call create_ingredient_df for indian cuisine and save in indian_ingredient_df.\n",
    "indian_ingredient_df =  create_ingredient_df(df_indian)\n",
    "# Plot a horizontal bar graph (as shown above) for the top 10 ingredients.\n",
    "indian_ingredient_df.sum().nlargest(10).plot.barh()"
   ]
  },
  {
   "cell_type": "code",
   "execution_count": 12,
   "metadata": {
    "id": "TR7Brxw8h09h"
   },
   "outputs": [
    {
     "data": {
      "text/plain": [
       "<AxesSubplot: >"
      ]
     },
     "execution_count": 12,
     "metadata": {},
     "output_type": "execute_result"
    },
    {
     "data": {
      "image/png": "[encoded data removed]",
      "text/plain": [
       "<Figure size 432x288 with 1 Axes>"
      ]
     },
     "metadata": {
      "needs_background": "light"
     },
     "output_type": "display_data"
    }
   ],
   "source": [
    "# Call create_ingredient_df for korean cuisine and save in korean_ingredient_df.\n",
    "korean_ingredient_df =  create_ingredient_df(df_korean)\n",
    "# Plot a horizontal bar graph (as shown above) for the top 10 ingredients.\n",
    "korean_ingredient_df.sum().nlargest(10).plot.barh()"
   ]
  },
  {
   "cell_type": "markdown",
   "metadata": {
    "id": "wydUy4r1NzKV"
   },
   "source": [
    "**Observations:**\n",
    "\n",
    "- __[TODO]__ Record your observations here."
   ]
  },
  {
   "cell_type": "code",
   "execution_count": 13,
   "metadata": {
    "id": "SRhBS3HPh09i"
   },
   "outputs": [
    {
     "data": {
      "text/html": [
       "<div>\n",
       "<style scoped>\n",
       "    .dataframe tbody tr th:only-of-type {\n",
       "        vertical-align: middle;\n",
       "    }\n",
       "\n",
       "    .dataframe tbody tr th {\n",
       "        vertical-align: top;\n",
       "    }\n",
       "\n",
       "    .dataframe thead th {\n",
       "        text-align: right;\n",
       "    }\n",
       "</style>\n",
       "<table border=\"1\" class=\"dataframe\">\n",
       "  <thead>\n",
       "    <tr style=\"text-align: right;\">\n",
       "      <th></th>\n",
       "      <th>almond</th>\n",
       "      <th>angelica</th>\n",
       "      <th>anise</th>\n",
       "      <th>anise_seed</th>\n",
       "      <th>apple</th>\n",
       "      <th>apple_brandy</th>\n",
       "      <th>apricot</th>\n",
       "      <th>armagnac</th>\n",
       "      <th>artemisia</th>\n",
       "      <th>artichoke</th>\n",
       "      <th>...</th>\n",
       "      <th>whiskey</th>\n",
       "      <th>white_bread</th>\n",
       "      <th>white_wine</th>\n",
       "      <th>whole_grain_wheat_flour</th>\n",
       "      <th>wine</th>\n",
       "      <th>wood</th>\n",
       "      <th>yam</th>\n",
       "      <th>yeast</th>\n",
       "      <th>yogurt</th>\n",
       "      <th>zucchini</th>\n",
       "    </tr>\n",
       "  </thead>\n",
       "  <tbody>\n",
       "    <tr>\n",
       "      <th>0</th>\n",
       "      <td>0</td>\n",
       "      <td>0</td>\n",
       "      <td>0</td>\n",
       "      <td>0</td>\n",
       "      <td>0</td>\n",
       "      <td>0</td>\n",
       "      <td>0</td>\n",
       "      <td>0</td>\n",
       "      <td>0</td>\n",
       "      <td>0</td>\n",
       "      <td>...</td>\n",
       "      <td>0</td>\n",
       "      <td>0</td>\n",
       "      <td>0</td>\n",
       "      <td>0</td>\n",
       "      <td>0</td>\n",
       "      <td>0</td>\n",
       "      <td>0</td>\n",
       "      <td>0</td>\n",
       "      <td>0</td>\n",
       "      <td>0</td>\n",
       "    </tr>\n",
       "    <tr>\n",
       "      <th>1</th>\n",
       "      <td>1</td>\n",
       "      <td>0</td>\n",
       "      <td>0</td>\n",
       "      <td>0</td>\n",
       "      <td>0</td>\n",
       "      <td>0</td>\n",
       "      <td>0</td>\n",
       "      <td>0</td>\n",
       "      <td>0</td>\n",
       "      <td>0</td>\n",
       "      <td>...</td>\n",
       "      <td>0</td>\n",
       "      <td>0</td>\n",
       "      <td>0</td>\n",
       "      <td>0</td>\n",
       "      <td>0</td>\n",
       "      <td>0</td>\n",
       "      <td>0</td>\n",
       "      <td>0</td>\n",
       "      <td>0</td>\n",
       "      <td>0</td>\n",
       "    </tr>\n",
       "    <tr>\n",
       "      <th>2</th>\n",
       "      <td>0</td>\n",
       "      <td>0</td>\n",
       "      <td>0</td>\n",
       "      <td>0</td>\n",
       "      <td>0</td>\n",
       "      <td>0</td>\n",
       "      <td>0</td>\n",
       "      <td>0</td>\n",
       "      <td>0</td>\n",
       "      <td>0</td>\n",
       "      <td>...</td>\n",
       "      <td>0</td>\n",
       "      <td>0</td>\n",
       "      <td>0</td>\n",
       "      <td>0</td>\n",
       "      <td>0</td>\n",
       "      <td>0</td>\n",
       "      <td>0</td>\n",
       "      <td>0</td>\n",
       "      <td>0</td>\n",
       "      <td>0</td>\n",
       "    </tr>\n",
       "    <tr>\n",
       "      <th>3</th>\n",
       "      <td>0</td>\n",
       "      <td>0</td>\n",
       "      <td>0</td>\n",
       "      <td>0</td>\n",
       "      <td>0</td>\n",
       "      <td>0</td>\n",
       "      <td>0</td>\n",
       "      <td>0</td>\n",
       "      <td>0</td>\n",
       "      <td>0</td>\n",
       "      <td>...</td>\n",
       "      <td>0</td>\n",
       "      <td>0</td>\n",
       "      <td>0</td>\n",
       "      <td>0</td>\n",
       "      <td>0</td>\n",
       "      <td>0</td>\n",
       "      <td>0</td>\n",
       "      <td>0</td>\n",
       "      <td>0</td>\n",
       "      <td>0</td>\n",
       "    </tr>\n",
       "    <tr>\n",
       "      <th>4</th>\n",
       "      <td>0</td>\n",
       "      <td>0</td>\n",
       "      <td>0</td>\n",
       "      <td>0</td>\n",
       "      <td>0</td>\n",
       "      <td>0</td>\n",
       "      <td>0</td>\n",
       "      <td>0</td>\n",
       "      <td>0</td>\n",
       "      <td>0</td>\n",
       "      <td>...</td>\n",
       "      <td>0</td>\n",
       "      <td>0</td>\n",
       "      <td>0</td>\n",
       "      <td>0</td>\n",
       "      <td>0</td>\n",
       "      <td>0</td>\n",
       "      <td>0</td>\n",
       "      <td>0</td>\n",
       "      <td>1</td>\n",
       "      <td>0</td>\n",
       "    </tr>\n",
       "  </tbody>\n",
       "</table>\n",
       "<p>5 rows × 383 columns</p>\n",
       "</div>"
      ],
      "text/plain": [
       "   almond  angelica  anise  anise_seed  apple  apple_brandy  apricot  \\\n",
       "0       0         0      0           0      0             0        0   \n",
       "1       1         0      0           0      0             0        0   \n",
       "2       0         0      0           0      0             0        0   \n",
       "3       0         0      0           0      0             0        0   \n",
       "4       0         0      0           0      0             0        0   \n",
       "\n",
       "   armagnac  artemisia  artichoke  ...  whiskey  white_bread  white_wine  \\\n",
       "0         0          0          0  ...        0            0           0   \n",
       "1         0          0          0  ...        0            0           0   \n",
       "2         0          0          0  ...        0            0           0   \n",
       "3         0          0          0  ...        0            0           0   \n",
       "4         0          0          0  ...        0            0           0   \n",
       "\n",
       "   whole_grain_wheat_flour  wine  wood  yam  yeast  yogurt  zucchini  \n",
       "0                        0     0     0    0      0       0         0  \n",
       "1                        0     0     0    0      0       0         0  \n",
       "2                        0     0     0    0      0       0         0  \n",
       "3                        0     0     0    0      0       0         0  \n",
       "4                        0     0     0    0      0       1         0  \n",
       "\n",
       "[5 rows x 383 columns]"
      ]
     },
     "execution_count": 13,
     "metadata": {},
     "output_type": "execute_result"
    }
   ],
   "source": [
    "# Drop the common ingredients and other unneccesary columns from 'df' and save in feature_df.\n",
    "labels_df = df.cuisine\n",
    "feature_df = df.drop([\"cuisine\"], axis=1)\n",
    "feature_df.head()"
   ]
  },
  {
   "cell_type": "markdown",
   "metadata": {},
   "source": []
  },
  {
   "cell_type": "markdown",
   "metadata": {
    "id": "iQEt6dh7VSHH"
   },
   "source": [
    "**Observations:**\n",
    "\n",
    "- __[TODO]__ Record your observations here."
   ]
  },
  {
   "cell_type": "markdown",
   "metadata": {
    "id": "R94OEsyXjsX-"
   },
   "source": [
    "## Prepare the Data for Classification\n",
    "\n",
    "\n",
    "- Import and use oversampling from SMOTE\n",
    "- Once imported, transform the same using the features and labels df.\n"
   ]
  },
  {
   "cell_type": "code",
   "execution_count": 21,
   "metadata": {
    "id": "8yzXYvSFh09i"
   },
   "outputs": [],
   "source": [
    "from imblearn.over_sampling import SMOTE\n",
    "oversample = SMOTE()\n",
    "transformed_feature_df, transformed_label_df = oversample.fit_resample(feature_df, labels_df)"
   ]
  },
  {
   "cell_type": "markdown",
   "metadata": {
    "id": "acBPOeq-SNXG"
   },
   "source": [
    "- Check out the new value counts for each cuisine\n",
    "- Compare the new counts with the old counts"
   ]
  },
  {
   "cell_type": "code",
   "execution_count": 15,
   "metadata": {
    "id": "9hhYDzjqh09j"
   },
   "outputs": [
    {
     "name": "stdout",
     "output_type": "stream",
     "text": [
      "new label count: indian      799\n",
      "thai        799\n",
      "chinese     799\n",
      "japanese    799\n",
      "korean      799\n",
      "Name: cuisine, dtype: int64\n",
      "old label count: korean      799\n",
      "indian      598\n",
      "chinese     442\n",
      "japanese    320\n",
      "thai        289\n",
      "Name: cuisine, dtype: int64\n"
     ]
    }
   ],
   "source": [
    "print(f'new label count: {transformed_label_df.value_counts()}')\n",
    "print(f'old label count: {df.cuisine.value_counts()}')"
   ]
  },
  {
   "cell_type": "markdown",
   "metadata": {
    "id": "vQn8LKLNTTx0"
   },
   "source": [
    "**Observations:**\n",
    "\n",
    "- __[TODO]__ Record your observations here."
   ]
  },
  {
   "cell_type": "markdown",
   "metadata": {
    "id": "Os4bKFVrkCGq"
   },
   "source": [
    "## Train a Logistic Regression Model\n",
    "\n",
    "- Import the libraries for logistic regression model\n",
    "\n"
   ]
  },
  {
   "cell_type": "code",
   "execution_count": 16,
   "metadata": {
    "id": "ypNCGfqbh09j"
   },
   "outputs": [],
   "source": [
    "from sklearn.linear_model import LogisticRegression\n",
    "from sklearn.model_selection import train_test_split, cross_val_score\n",
    "from sklearn.metrics import accuracy_score,precision_score,confusion_matrix,classification_report, precision_recall_curve\n",
    "import numpy as np"
   ]
  },
  {
   "cell_type": "markdown",
   "metadata": {
    "id": "oJ4z977GZocW"
   },
   "source": [
    "- Split the data into training and testing sets in the ratio 70:30"
   ]
  },
  {
   "cell_type": "code",
   "execution_count": 17,
   "metadata": {
    "id": "Qo_FGeXPh09j"
   },
   "outputs": [],
   "source": [
    "X_train, X_test, y_train, y_test = train_test_split(transformed_feature_df, transformed_label_df, test_size=0.3)"
   ]
  },
  {
   "cell_type": "markdown",
   "metadata": {
    "id": "UTR512AlakzQ"
   },
   "source": [
    "- Train the logistic regression model and calculate the accuracy.\n",
    "- The model **lr** is fitted to the variable model.\n",
    "- Next, accuracy needs to be calculated using the method model."
   ]
  },
  {
   "cell_type": "code",
   "execution_count": 18,
   "metadata": {
    "id": "Fk3MRlFgh09j"
   },
   "outputs": [
    {
     "name": "stdout",
     "output_type": "stream",
     "text": [
      "Accuracy is 0.7889908256880734\n"
     ]
    }
   ],
   "source": [
    "lr = LogisticRegression(multi_class='ovr',solver='liblinear')\n",
    "model = lr.fit(X_train, np.ravel(y_train))\n",
    "\n",
    "accuracy = model.score(X_test, y_test)\n",
    "print (\"Accuracy is {}\".format(accuracy))"
   ]
  },
  {
   "cell_type": "markdown",
   "metadata": {
    "id": "hcp8xmggcQuw"
   },
   "source": [
    "**Observations:**\n",
    "\n",
    "- __[TODO]__ Record your observations here."
   ]
  },
  {
   "cell_type": "markdown",
   "metadata": {
    "id": "f_rQ5ntfkeMG"
   },
   "source": [
    "\n",
    "## Make Predictions and Analyze the Results\n",
    "\n",
    "- Now, let's make a prediction for a specific test instance.\n",
    "- Let's calculate and print the probabilities for each class.\n",
    "- Display the top predicted cuisines\n"
   ]
  },
  {
   "cell_type": "code",
   "execution_count": 34,
   "metadata": {},
   "outputs": [
    {
     "data": {
      "text/plain": [
       "almond        False\n",
       "angelica      False\n",
       "anise         False\n",
       "anise_seed    False\n",
       "apple         False\n",
       "              ...  \n",
       "wood          False\n",
       "yam           False\n",
       "yeast         False\n",
       "yogurt        False\n",
       "zucchini      False\n",
       "Name: 78, Length: 383, dtype: bool"
      ]
     },
     "execution_count": 34,
     "metadata": {},
     "output_type": "execute_result"
    }
   ],
   "source": [
    "X_test.iloc[50]!=0"
   ]
  },
  {
   "cell_type": "code",
   "execution_count": 19,
   "metadata": {
    "id": "g95G3NPsh09k"
   },
   "outputs": [
    {
     "name": "stdout",
     "output_type": "stream",
     "text": [
      "ingredients: Index(['bell_pepper', 'cilantro', 'garlic', 'lemon_juice', 'olive_oil',\n",
      "       'onion', 'tomato', 'turmeric'],\n",
      "      dtype='object')\n",
      "cuisine: indian\n"
     ]
    }
   ],
   "source": [
    "print(f'ingredients: {X_test.iloc[50][X_test.iloc[50]!=0].keys()}')\n",
    "print(f'cuisine: {y_test.iloc[50]}')"
   ]
  },
  {
   "cell_type": "markdown",
   "metadata": {
    "id": "PiMFYKNreCEX"
   },
   "source": [
    "**Observations:**\n",
    "\n",
    "- __[TODO]__ Record your observations here.\n",
    "\n",
    "Note: The train and test datasets are selected randomly from the input dataset, so the code will give slightly different results every time you run the train_test_split function.\n",
    "\n",
    "Now, predict the cuisine type using the model.\n",
    "- Since we want the probability, we can use the predict_proba method.\n",
    "- Store the value in the resultdf DataFrame.\n",
    "- Finally, sort the values by index values.\n",
    "\n",
    "\n",
    "\n"
   ]
  },
  {
   "cell_type": "code",
   "execution_count": 38,
   "metadata": {},
   "outputs": [
    {
     "data": {
      "text/plain": [
       "array([[0, 0, 0, 0, 0, 0, 0, 0, 0, 0, 0, 0, 0, 0, 0, 0, 0, 0, 0, 0, 0, 0,\n",
       "        0, 0, 0, 0, 0, 1, 0, 0, 0, 0, 0, 0, 0, 0, 0, 0, 0, 0, 0, 0, 0, 0,\n",
       "        0, 0, 0, 0, 0, 0, 0, 0, 0, 0, 0, 0, 0, 0, 0, 0, 0, 0, 0, 0, 0, 0,\n",
       "        0, 0, 0, 0, 0, 0, 0, 0, 0, 0, 0, 0, 0, 0, 0, 0, 0, 0, 0, 0, 0, 0,\n",
       "        1, 0, 0, 0, 0, 0, 0, 0, 0, 0, 0, 0, 0, 0, 0, 0, 0, 0, 0, 0, 0, 0,\n",
       "        0, 0, 0, 0, 0, 0, 0, 0, 0, 0, 0, 0, 0, 0, 0, 0, 0, 0, 0, 0, 0, 0,\n",
       "        0, 0, 0, 1, 0, 0, 0, 0, 0, 0, 0, 0, 0, 0, 0, 0, 0, 0, 0, 0, 0, 0,\n",
       "        0, 0, 0, 0, 0, 0, 0, 0, 0, 0, 0, 0, 0, 0, 0, 0, 0, 0, 0, 0, 0, 0,\n",
       "        0, 0, 1, 0, 0, 0, 0, 0, 0, 0, 0, 0, 0, 0, 0, 0, 0, 0, 0, 0, 0, 0,\n",
       "        0, 0, 0, 0, 0, 0, 0, 0, 0, 0, 0, 0, 0, 0, 0, 0, 0, 0, 0, 0, 0, 0,\n",
       "        0, 0, 0, 0, 0, 0, 0, 0, 0, 1, 1, 0, 0, 0, 0, 0, 0, 0, 0, 0, 0, 0,\n",
       "        0, 0, 0, 0, 0, 0, 0, 0, 0, 0, 0, 0, 0, 0, 0, 0, 0, 0, 0, 0, 0, 0,\n",
       "        0, 0, 0, 0, 0, 0, 0, 0, 0, 0, 0, 0, 0, 0, 0, 0, 0, 0, 0, 0, 0, 0,\n",
       "        0, 0, 0, 0, 0, 0, 0, 0, 0, 0, 0, 0, 0, 0, 0, 0, 0, 0, 0, 0, 0, 0,\n",
       "        0, 0, 0, 0, 0, 0, 0, 0, 0, 0, 0, 0, 0, 0, 0, 0, 0, 0, 0, 0, 0, 0,\n",
       "        0, 0, 0, 0, 0, 0, 0, 0, 0, 0, 0, 0, 0, 0, 0, 0, 0, 0, 0, 0, 0, 0,\n",
       "        0, 0, 1, 0, 0, 0, 0, 1, 0, 0, 0, 0, 0, 0, 0, 0, 0, 0, 0, 0, 0, 0,\n",
       "        0, 0, 0, 0, 0, 0, 0, 0, 0]])"
      ]
     },
     "execution_count": 38,
     "metadata": {},
     "output_type": "execute_result"
    }
   ],
   "source": [
    "X_test.iloc[50].values.reshape(-1, 1).T"
   ]
  },
  {
   "cell_type": "code",
   "execution_count": 35,
   "metadata": {
    "id": "j7fBk4vuh09k"
   },
   "outputs": [
    {
     "data": {
      "text/html": [
       "<div>\n",
       "<style scoped>\n",
       "    .dataframe tbody tr th:only-of-type {\n",
       "        vertical-align: middle;\n",
       "    }\n",
       "\n",
       "    .dataframe tbody tr th {\n",
       "        vertical-align: top;\n",
       "    }\n",
       "\n",
       "    .dataframe thead th {\n",
       "        text-align: right;\n",
       "    }\n",
       "</style>\n",
       "<table border=\"1\" class=\"dataframe\">\n",
       "  <thead>\n",
       "    <tr style=\"text-align: right;\">\n",
       "      <th></th>\n",
       "      <th>0</th>\n",
       "    </tr>\n",
       "  </thead>\n",
       "  <tbody>\n",
       "    <tr>\n",
       "      <th>indian</th>\n",
       "      <td>0.953588</td>\n",
       "    </tr>\n",
       "    <tr>\n",
       "      <th>thai</th>\n",
       "      <td>0.030130</td>\n",
       "    </tr>\n",
       "    <tr>\n",
       "      <th>japanese</th>\n",
       "      <td>0.009915</td>\n",
       "    </tr>\n",
       "    <tr>\n",
       "      <th>chinese</th>\n",
       "      <td>0.006019</td>\n",
       "    </tr>\n",
       "    <tr>\n",
       "      <th>korean</th>\n",
       "      <td>0.000348</td>\n",
       "    </tr>\n",
       "  </tbody>\n",
       "</table>\n",
       "</div>"
      ],
      "text/plain": [
       "                 0\n",
       "indian    0.953588\n",
       "thai      0.030130\n",
       "japanese  0.009915\n",
       "chinese   0.006019\n",
       "korean    0.000348"
      ]
     },
     "execution_count": 35,
     "metadata": {},
     "output_type": "execute_result"
    }
   ],
   "source": [
    "test= X_test.iloc[50].values.reshape(-1, 1).T\n",
    "# Use the predict_proba() method and pass the test variable as an input parameter. Save the result in proba.\n",
    "proba = model.predict_proba(test)\n",
    "# Save the model.classes_ output in a variable named classes.\n",
    "classes = model.classes_\n",
    "# Save the prediction output as a DataFrame  using the pd.DataFrame() method. Input proba as the data parameter and classes as the columns parameter. Save the result in resultdf.\n",
    "resultdf = pd.DataFrame(proba, columns = classes)\n",
    "resultdf\n",
    "topPrediction = resultdf.T.sort_values(by=[0], ascending = [False])\n",
    "topPrediction.head()"
   ]
  },
  {
   "cell_type": "markdown",
   "metadata": {
    "id": "DfRmqdhmhpkD"
   },
   "source": [
    "**Observations:**\n",
    "\n",
    "- __[TODO]__ Record your observations here."
   ]
  },
  {
   "cell_type": "markdown",
   "metadata": {
    "id": "c2Bn3gSmkrR-"
   },
   "source": [
    "## Evaluate the Model\n",
    "\n",
    "- Generate a classification report to evaluate the model's performance\n",
    "- Now, let's check the classification report using the method classification_report.\n"
   ]
  },
  {
   "cell_type": "code",
   "execution_count": 31,
   "metadata": {
    "id": "2R6ysTAHh09k"
   },
   "outputs": [
    {
     "data": {
      "text/plain": [
       "'              precision    recall  f1-score   support\\n\\n     chinese       0.74      0.66      0.70       244\\n      indian       0.88      0.89      0.88       241\\n    japanese       0.73      0.73      0.73       243\\n      korean       0.82      0.79      0.81       247\\n        thai       0.77      0.88      0.82       224\\n\\n    accuracy                           0.79      1199\\n   macro avg       0.79      0.79      0.79      1199\\nweighted avg       0.79      0.79      0.79      1199\\n'"
      ]
     },
     "execution_count": 31,
     "metadata": {},
     "output_type": "execute_result"
    }
   ],
   "source": [
    "y_pred = model.predict(X_test)\n",
    "# Print the result of the function classfication_report(). Use y_test and y_pred to evaluate the model's performance.\n",
    "classification_report(y_test, y_pred)"
   ]
  },
  {
   "cell_type": "markdown",
   "metadata": {
    "id": "xxvenxtgidGT"
   },
   "source": [
    "**Observations:**\n",
    "\n",
    "- __[TODO]__ Record your observations here."
   ]
  }
 ],
 "metadata": {
  "colab": {
   "provenance": []
  },
  "kernelspec": {
   "display_name": "Python 3 [3.10]",
   "language": "python",
   "name": "python3"
  },
  "language_info": {
   "codemirror_mode": {
    "name": "ipython",
    "version": 3
   },
   "file_extension": ".py",
   "mimetype": "text/x-python",
   "name": "python",
   "nbconvert_exporter": "python",
   "pygments_lexer": "ipython3",
   "version": "3.10.2"
  }
 },
 "nbformat": 4,
 "nbformat_minor": 4
}
